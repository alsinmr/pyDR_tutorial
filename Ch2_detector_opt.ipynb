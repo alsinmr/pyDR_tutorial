{
 "cells": [
  {
   "cell_type": "markdown",
   "id": "37ef12ef",
   "metadata": {},
   "source": [
    "# <span style=\"color:maroon\">Chapter 2: Detector Optimization</span>"
   ]
  },
  {
   "cell_type": "markdown",
   "id": "c7257f62",
   "metadata": {},
   "source": [
    "In the previous chapter, we established that if we have an experimental measurements, $R_\\zeta^\\theta$ (denoted $R_\\zeta^{(\\theta,S)}$ for rank-2 tensor correlation functions), which have linear relationships to the correlation function, then we can take linear combinations of the experimental measurements to get so-called *detector responses* which provide correlation time windows, i.e. *detector sensitivities*, $\\rho_n(z)$, into the total distribution of correlation times. \n",
    "\n",
    "The goal, then, is to find $n$ linear combinations of a set of experimental sensitivies that\n",
    "- Allow us to also reproduce the original sensitivies to good approximation\n",
    "    - *This maximizes the extracted information*\n",
    "- The output detector sensitivities are narrow and well-separated\n",
    "    - *or match some target function*\n",
    "    \n",
    "Let's suppose, then, that we have some $m$"
   ]
  },
  {
   "cell_type": "code",
   "execution_count": null,
   "id": "b6f5ec38",
   "metadata": {},
   "outputs": [],
   "source": []
  }
 ],
 "metadata": {
  "kernelspec": {
   "display_name": "Python 3",
   "language": "python",
   "name": "python3"
  },
  "language_info": {
   "codemirror_mode": {
    "name": "ipython",
    "version": 3
   },
   "file_extension": ".py",
   "mimetype": "text/x-python",
   "name": "python",
   "nbconvert_exporter": "python",
   "pygments_lexer": "ipython3",
   "version": "3.8.8"
  }
 },
 "nbformat": 4,
 "nbformat_minor": 5
}
