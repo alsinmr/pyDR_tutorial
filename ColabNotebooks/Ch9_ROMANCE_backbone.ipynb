{
 "cells": [

{
   "cell_type": "markdown",
   "id": "abad766b",
   "metadata": {},
   "source": [
    "# <font color=\"maroon\">Chapter 9: ROMANCE Analysis of Backbone Motion</font>"
   ]
},
{
   "cell_type": "markdown",
   "id": "4911e6eb",
   "metadata": {},
   "source": [
    "Some text about [ROMANCE](https://doi.org/10.1016/j.jmro.2022.100045) analysis."
   ]
},
{
   "cell_type": "markdown",
   "id": "584a0d5f",
   "metadata": {},
   "source": [
    "## Setup and data downloads\n",
    "Since we've learned now how pyDR is organized and allows us to manage larger data sets, we'll now use the full project functionality."
   ]
},
{
     "cell_type": "code",
     "execution_count": 0,
     "id": "759eab0f",
     "metadata": {},
     "outputs": [],
     "source": [
      "# SETUP pyDR\n",
      "!git clone https://github.com/alsinmr/pyDR.git"
     ]
    },
{
   "cell_type": "code",
   "execution_count": 2,
   "id": "9dde38fc",
   "metadata": {},
   "outputs": [],
   "source": [
    "#Imports\n",
    "import pyDR"
   ]
},
{
   "cell_type": "code",
   "execution_count": 3,
   "id": "2749d004",
   "metadata": {},
   "outputs": [],
   "source": [
    "#Download MD files if running in Colab (hidden on webpage)\n",
    "import sys\n",
    "if 'google.colab' in sys.modules:\n",
    "    from gdown import download\n",
    "    ID='1xgp5_BVeCh6Weu4tnsl1ToRZR49eM5hW'   #HETs xtc file\n",
    "    #Just grab this string out of the google drive share link 'https://drive.google.com/file/d/1xgp5_BVeCh6Weu4tnsl1ToRZR49eM5hW/view?usp=share_link'\n",
    "    download(f'https://drive.google.com/uc?id={ID}','/content/pyDR/examples/HETs15N/backboneB.xtc')"
   ]
},
{
   "cell_type": "code",
   "execution_count": 4,
   "id": "0639cdcb",
   "metadata": {},
   "outputs": [],
   "source": [
    "# Project Creation and File loading\n",
    "proj=pyDR.Project()\n",
    "\n",
    "sel=pyDR.MolSelect(topo='pyDR/examples/HETs15N/backboneB.pdb',\n",
    "                   traj_files='pyDR/examples/HETs15N/backboneB.xtc',\n",
    "                   project=proj)  #Selection object\n",
    "\n",
    "# Specify the bond select to analyze for MD\n",
    "sel.select_bond('N')\n",
    "\n",
    "sel.traj.step=10  #Take every tenth point for MD calculation (set to 1 for more accurate calculation)\n",
    "pyDR.Defaults['ProgressBar']=False #Turns of the Progress bar (screws up webpage compilation)"
   ]
},
{
   "cell_type": "markdown",
   "id": "336f72d9",
   "metadata": {},
   "source": [
    "## Run the frame analysis"
   ]
},
{
   "cell_type": "markdown",
   "id": "07733dee",
   "metadata": {},
   "source": [
    "### Setup the frame analysis"
   ]
},
{
   "cell_type": "code",
   "execution_count": 5,
   "id": "c73a2a53",
   "metadata": {},
   "outputs": [],
   "source": [
    "from numpy import nan\n",
    "bsheets=[(226,228),(230,234),(236,240),(242,245),\n",
    "         (262,264),(266,270),(272,276),(278,281)]\n",
    "\n",
    "# Define second reference frame (beta sheets)\n",
    "sel0=[sel.uni.select_atoms(f'resid {bsheet[0]}-{bsheet[1]}') for bsheet in bsheets]\n",
    "\n",
    "fo=pyDR.Frames.FrameObj(sel)\n",
    "fo.tensor_frame(sel1=1,sel2=2)  #Define the frame of the interaction (dipole tensor)\n",
    "fo.new_frame(Type='peptide_plane',resids=sel.label) #Define first reference frame\n",
    "fo.new_frame(Type='superimpose',sel=sel0) #Define second reference frame"
   ]
},
{
   "cell_type": "markdown",
   "id": "f5a52645",
   "metadata": {},
   "source": [
    "### Import the frames, process"
   ]
},
{
   "cell_type": "code",
   "execution_count": 6,
   "id": "1f54ef69",
   "metadata": {},
   "outputs": [
    {
     "name": "stdout",
     "output_type": "stream",
     "text": [
      "Warning: Individual components of the correlation functions or tensors will not be returned in auto or sym mode\n"
     ]
    },
    {
     "ename": "KeyboardInterrupt",
     "evalue": "",
     "output_type": "error",
     "traceback": [
      "\u001b[0;31m---------------------------------------------------------------------------\u001b[0m",
      "\u001b[0;31mKeyboardInterrupt\u001b[0m                         Traceback (most recent call last)",
      "\u001b[0;32m<ipython-input-6-f71f769b0486>\u001b[0m in \u001b[0;36m<module>\u001b[0;34m()\u001b[0m\n\u001b[0;32m----> 1\u001b[0;31m \u001b[0mfo\u001b[0m\u001b[0;34m.\u001b[0m\u001b[0mframes2data\u001b[0m\u001b[0;34m(\u001b[0m\u001b[0;34m)\u001b[0m  \u001b[0;31m#Process frames, send to data\u001b[0m\u001b[0;34m\u001b[0m\u001b[0;34m\u001b[0m\u001b[0m\n\u001b[0m\u001b[1;32m      2\u001b[0m \u001b[0mproj\u001b[0m\u001b[0;34m[\u001b[0m\u001b[0;34m'Frames'\u001b[0m\u001b[0;34m]\u001b[0m\u001b[0;34m.\u001b[0m\u001b[0mdetect\u001b[0m\u001b[0;34m.\u001b[0m\u001b[0mr_auto\u001b[0m\u001b[0;34m(\u001b[0m\u001b[0;36m7\u001b[0m\u001b[0;34m)\u001b[0m  \u001b[0;31m#Prepare detectors\u001b[0m\u001b[0;34m\u001b[0m\u001b[0;34m\u001b[0m\u001b[0m\n\u001b[1;32m      3\u001b[0m \u001b[0mproj\u001b[0m\u001b[0;34m[\u001b[0m\u001b[0;34m'Frames'\u001b[0m\u001b[0;34m]\u001b[0m\u001b[0;34m.\u001b[0m\u001b[0mfit\u001b[0m\u001b[0;34m(\u001b[0m\u001b[0;34m)\u001b[0m\u001b[0;34m.\u001b[0m\u001b[0mopt2dist\u001b[0m\u001b[0;34m(\u001b[0m\u001b[0mrhoz_cleanup\u001b[0m\u001b[0;34m=\u001b[0m\u001b[0;32mTrue\u001b[0m\u001b[0;34m)\u001b[0m  \u001b[0;31m#Fit and optimize fit\u001b[0m\u001b[0;34m\u001b[0m\u001b[0;34m\u001b[0m\u001b[0m\n",
      "\u001b[0;32m~/Documents/GitHub/pyDR/Frames/eval_fr.py\u001b[0m in \u001b[0;36mframes2data\u001b[0;34m(self, mode, return_index, include, rank)\u001b[0m\n\u001b[1;32m    513\u001b[0m         \u001b[0;32mif\u001b[0m \u001b[0mrank\u001b[0m \u001b[0;32mis\u001b[0m \u001b[0;32mnot\u001b[0m \u001b[0;32mNone\u001b[0m\u001b[0;34m:\u001b[0m\u001b[0mself\u001b[0m\u001b[0;34m.\u001b[0m\u001b[0mrank\u001b[0m\u001b[0;34m=\u001b[0m\u001b[0mrank\u001b[0m \u001b[0;31m#User-sepecified rank.\u001b[0m\u001b[0;34m\u001b[0m\u001b[0;34m\u001b[0m\u001b[0m\n\u001b[1;32m    514\u001b[0m \u001b[0;34m\u001b[0m\u001b[0m\n\u001b[0;32m--> 515\u001b[0;31m         \u001b[0mself\u001b[0m\u001b[0;34m.\u001b[0m\u001b[0mframes2ct\u001b[0m\u001b[0;34m(\u001b[0m\u001b[0mmode\u001b[0m\u001b[0;34m=\u001b[0m\u001b[0mmode\u001b[0m\u001b[0;34m,\u001b[0m\u001b[0mreturn_index\u001b[0m\u001b[0;34m=\u001b[0m\u001b[0mreturn_index\u001b[0m\u001b[0;34m,\u001b[0m\u001b[0minclude\u001b[0m\u001b[0;34m=\u001b[0m\u001b[0minclude\u001b[0m\u001b[0;34m)\u001b[0m\u001b[0;34m\u001b[0m\u001b[0;34m\u001b[0m\u001b[0m\n\u001b[0m\u001b[1;32m    516\u001b[0m         \u001b[0mout\u001b[0m\u001b[0;34m=\u001b[0m\u001b[0mct2data\u001b[0m\u001b[0;34m(\u001b[0m\u001b[0mself\u001b[0m\u001b[0;34m.\u001b[0m\u001b[0mct_out\u001b[0m\u001b[0;34m,\u001b[0m\u001b[0mself\u001b[0m\u001b[0;34m.\u001b[0m\u001b[0mselect\u001b[0m\u001b[0;34m)\u001b[0m\u001b[0;34m\u001b[0m\u001b[0;34m\u001b[0m\u001b[0m\n\u001b[1;32m    517\u001b[0m         \u001b[0;32mfor\u001b[0m \u001b[0mo\u001b[0m \u001b[0;32min\u001b[0m \u001b[0mout\u001b[0m\u001b[0;34m:\u001b[0m\u001b[0mo\u001b[0m\u001b[0;34m.\u001b[0m\u001b[0mdetails\u001b[0m\u001b[0;34m=\u001b[0m\u001b[0mself\u001b[0m\u001b[0;34m.\u001b[0m\u001b[0mdetails\u001b[0m\u001b[0;34m.\u001b[0m\u001b[0mcopy\u001b[0m\u001b[0;34m(\u001b[0m\u001b[0;34m)\u001b[0m\u001b[0;34m\u001b[0m\u001b[0;34m\u001b[0m\u001b[0m\n",
      "\u001b[0;32m~/Documents/GitHub/pyDR/Frames/eval_fr.py\u001b[0m in \u001b[0;36mframes2ct\u001b[0;34m(self, mode, return_index, include)\u001b[0m\n\u001b[1;32m    442\u001b[0m \u001b[0;34m\u001b[0m\u001b[0m\n\u001b[1;32m    443\u001b[0m         \u001b[0;32mif\u001b[0m \u001b[0mrun\u001b[0m\u001b[0;34m:\u001b[0m\u001b[0;34m\u001b[0m\u001b[0;34m\u001b[0m\u001b[0m\n\u001b[0;32m--> 444\u001b[0;31m             \u001b[0;32mif\u001b[0m \u001b[0;32mnot\u001b[0m\u001b[0;34m(\u001b[0m\u001b[0mself\u001b[0m\u001b[0;34m.\u001b[0m\u001b[0m__frames_loaded\u001b[0m\u001b[0;34m)\u001b[0m\u001b[0;34m:\u001b[0m\u001b[0mself\u001b[0m\u001b[0;34m.\u001b[0m\u001b[0mload_frames\u001b[0m\u001b[0;34m(\u001b[0m\u001b[0;34m)\u001b[0m \u001b[0;31m#Load the frames if not already done\u001b[0m\u001b[0;34m\u001b[0m\u001b[0;34m\u001b[0m\u001b[0m\n\u001b[0m\u001b[1;32m    445\u001b[0m \u001b[0;34m\u001b[0m\u001b[0m\n\u001b[1;32m    446\u001b[0m             \u001b[0mself\u001b[0m\u001b[0;34m.\u001b[0m\u001b[0m__return_index\u001b[0m\u001b[0;34m=\u001b[0m\u001b[0mreturn_index\u001b[0m\u001b[0;34m.\u001b[0m\u001b[0mcopy\u001b[0m\u001b[0;34m(\u001b[0m\u001b[0;34m)\u001b[0m\u001b[0;34m\u001b[0m\u001b[0;34m\u001b[0m\u001b[0m\n",
      "\u001b[0;32m~/Documents/GitHub/pyDR/Frames/eval_fr.py\u001b[0m in \u001b[0;36mload_frames\u001b[0;34m(self, n, nr, index)\u001b[0m\n\u001b[1;32m    354\u001b[0m             \u001b[0;32mif\u001b[0m \u001b[0mnp\u001b[0m\u001b[0;34m.\u001b[0m\u001b[0mall\u001b[0m\u001b[0;34m(\u001b[0m\u001b[0mself\u001b[0m\u001b[0;34m.\u001b[0m\u001b[0mvecs\u001b[0m\u001b[0;34m[\u001b[0m\u001b[0;34m'index'\u001b[0m\u001b[0;34m]\u001b[0m\u001b[0;34m==\u001b[0m\u001b[0mindex\u001b[0m\u001b[0;34m)\u001b[0m\u001b[0;34m:\u001b[0m\u001b[0;32mreturn\u001b[0m\u001b[0;34m\u001b[0m\u001b[0;34m\u001b[0m\u001b[0m\n\u001b[1;32m    355\u001b[0m         \u001b[0mself\u001b[0m\u001b[0;34m.\u001b[0m\u001b[0msampling_info\u001b[0m\u001b[0;34m=\u001b[0m\u001b[0;34m{\u001b[0m\u001b[0;34m'tf'\u001b[0m\u001b[0;34m:\u001b[0m\u001b[0mtf\u001b[0m\u001b[0;34m,\u001b[0m\u001b[0;34m'dt'\u001b[0m\u001b[0;34m:\u001b[0m\u001b[0mself\u001b[0m\u001b[0;34m.\u001b[0m\u001b[0mselect\u001b[0m\u001b[0;34m.\u001b[0m\u001b[0mtraj\u001b[0m\u001b[0;34m.\u001b[0m\u001b[0mdt\u001b[0m\u001b[0;34m/\u001b[0m\u001b[0;36m1e3\u001b[0m\u001b[0;34m,\u001b[0m\u001b[0;34m'n'\u001b[0m\u001b[0;34m:\u001b[0m\u001b[0mn\u001b[0m\u001b[0;34m,\u001b[0m\u001b[0;34m'nr'\u001b[0m\u001b[0;34m:\u001b[0m\u001b[0mnr\u001b[0m\u001b[0;34m}\u001b[0m\u001b[0;34m\u001b[0m\u001b[0;34m\u001b[0m\u001b[0m\n\u001b[0;32m--> 356\u001b[0;31m         \u001b[0mself\u001b[0m\u001b[0;34m.\u001b[0m\u001b[0mvecs\u001b[0m\u001b[0;34m=\u001b[0m\u001b[0mmol2vec\u001b[0m\u001b[0;34m(\u001b[0m\u001b[0mself\u001b[0m\u001b[0;34m,\u001b[0m\u001b[0mindex\u001b[0m\u001b[0;34m=\u001b[0m\u001b[0mindex\u001b[0m\u001b[0;34m)\u001b[0m\u001b[0;34m\u001b[0m\u001b[0;34m\u001b[0m\u001b[0m\n\u001b[0m\u001b[1;32m    357\u001b[0m         \u001b[0mself\u001b[0m\u001b[0;34m.\u001b[0m\u001b[0m__frames_loaded\u001b[0m\u001b[0;34m=\u001b[0m\u001b[0;32mTrue\u001b[0m\u001b[0;34m\u001b[0m\u001b[0;34m\u001b[0m\u001b[0m\n\u001b[1;32m    358\u001b[0m         \u001b[0mself\u001b[0m\u001b[0;34m.\u001b[0m\u001b[0minclude\u001b[0m\u001b[0;34m=\u001b[0m\u001b[0;32mNone\u001b[0m   \u001b[0;31m#If new frames loaded, we should re-set what frames used for correlation functions\u001b[0m\u001b[0;34m\u001b[0m\u001b[0;34m\u001b[0m\u001b[0m\n",
      "\u001b[0;32m~/Documents/GitHub/pyDR/Frames/eval_fr.py\u001b[0m in \u001b[0;36mmol2vec\u001b[0;34m(fr_obj, n, nr, index)\u001b[0m\n\u001b[1;32m   1141\u001b[0m         \u001b[0mindex\u001b[0m\u001b[0;34m=\u001b[0m\u001b[0msparse_index\u001b[0m\u001b[0;34m(\u001b[0m\u001b[0mtf\u001b[0m\u001b[0;34m,\u001b[0m\u001b[0mn\u001b[0m\u001b[0;34m,\u001b[0m\u001b[0mnr\u001b[0m\u001b[0;34m)\u001b[0m\u001b[0;34m\u001b[0m\u001b[0;34m\u001b[0m\u001b[0m\n\u001b[1;32m   1142\u001b[0m \u001b[0;34m\u001b[0m\u001b[0m\n\u001b[0;32m-> 1143\u001b[0;31m     \u001b[0;32mreturn\u001b[0m \u001b[0mini_vec_load\u001b[0m\u001b[0;34m(\u001b[0m\u001b[0mtraj\u001b[0m\u001b[0;34m,\u001b[0m\u001b[0mfr_obj\u001b[0m\u001b[0;34m.\u001b[0m\u001b[0mvf\u001b[0m\u001b[0;34m,\u001b[0m\u001b[0mfr_obj\u001b[0m\u001b[0;34m.\u001b[0m\u001b[0mvft\u001b[0m\u001b[0;34m,\u001b[0m\u001b[0mfr_obj\u001b[0m\u001b[0;34m.\u001b[0m\u001b[0mframe_info\u001b[0m\u001b[0;34m[\u001b[0m\u001b[0;34m'frame_index'\u001b[0m\u001b[0;34m]\u001b[0m\u001b[0;34m,\u001b[0m\u001b[0mindex\u001b[0m\u001b[0;34m=\u001b[0m\u001b[0mindex\u001b[0m\u001b[0;34m,\u001b[0m\u001b[0minfo\u001b[0m\u001b[0;34m=\u001b[0m\u001b[0mfr_obj\u001b[0m\u001b[0;34m.\u001b[0m\u001b[0mframe_info\u001b[0m\u001b[0;34m[\u001b[0m\u001b[0;34m'info'\u001b[0m\u001b[0;34m]\u001b[0m\u001b[0;34m)\u001b[0m\u001b[0;34m\u001b[0m\u001b[0;34m\u001b[0m\u001b[0m\n\u001b[0m\u001b[1;32m   1144\u001b[0m \u001b[0;34m\u001b[0m\u001b[0m\n\u001b[1;32m   1145\u001b[0m \u001b[0;34m\"This function takes care of the bulk of the actual calculations\"\u001b[0m\u001b[0;34m\u001b[0m\u001b[0;34m\u001b[0m\u001b[0m\n",
      "\u001b[0;32m~/Documents/GitHub/pyDR/Frames/eval_fr.py\u001b[0m in \u001b[0;36mini_vec_load\u001b[0;34m(traj, frame_funs, tensor_fun, frame_index, index, info)\u001b[0m\n\u001b[1;32m   1564\u001b[0m \u001b[0;34m\u001b[0m\u001b[0m\n\u001b[1;32m   1565\u001b[0m     \u001b[0;32mfor\u001b[0m \u001b[0mc\u001b[0m\u001b[0;34m,\u001b[0m\u001b[0mi\u001b[0m \u001b[0;32min\u001b[0m \u001b[0menumerate\u001b[0m\u001b[0;34m(\u001b[0m\u001b[0mindex\u001b[0m\u001b[0;34m)\u001b[0m\u001b[0;34m:\u001b[0m\u001b[0;34m\u001b[0m\u001b[0;34m\u001b[0m\u001b[0m\n\u001b[0;32m-> 1566\u001b[0;31m         \u001b[0mtraj\u001b[0m\u001b[0;34m[\u001b[0m\u001b[0mi\u001b[0m\u001b[0;34m]\u001b[0m \u001b[0;31m#Go to current frame\u001b[0m\u001b[0;34m\u001b[0m\u001b[0;34m\u001b[0m\u001b[0m\n\u001b[0m\u001b[1;32m   1567\u001b[0m         \u001b[0;32mfor\u001b[0m \u001b[0mk\u001b[0m\u001b[0;34m,\u001b[0m\u001b[0mf\u001b[0m \u001b[0;32min\u001b[0m \u001b[0menumerate\u001b[0m\u001b[0;34m(\u001b[0m\u001b[0mframe_funs\u001b[0m\u001b[0;34m)\u001b[0m\u001b[0;34m:\u001b[0m\u001b[0;34m\u001b[0m\u001b[0;34m\u001b[0m\u001b[0m\n\u001b[1;32m   1568\u001b[0m             \u001b[0mv\u001b[0m\u001b[0;34m[\u001b[0m\u001b[0mk\u001b[0m\u001b[0;34m]\u001b[0m\u001b[0;34m.\u001b[0m\u001b[0mappend\u001b[0m\u001b[0;34m(\u001b[0m\u001b[0mf\u001b[0m\u001b[0;34m(\u001b[0m\u001b[0;34m)\u001b[0m\u001b[0;34m)\u001b[0m\u001b[0;34m\u001b[0m\u001b[0;34m\u001b[0m\u001b[0m\n",
      "\u001b[0;32m~/Documents/GitHub/pyDR/Selection/MolSys.py\u001b[0m in \u001b[0;36m__getitem__\u001b[0;34m(self, index)\u001b[0m\n\u001b[1;32m    309\u001b[0m             \u001b[0;32massert\u001b[0m \u001b[0mindex\u001b[0m\u001b[0;34m<\u001b[0m\u001b[0mself\u001b[0m\u001b[0;34m.\u001b[0m\u001b[0m__len__\u001b[0m\u001b[0;34m(\u001b[0m\u001b[0;34m)\u001b[0m\u001b[0;34m,\u001b[0m\u001b[0;34m\"index must be less than the truncated trajectory length\"\u001b[0m\u001b[0;34m\u001b[0m\u001b[0;34m\u001b[0m\u001b[0m\n\u001b[1;32m    310\u001b[0m             \u001b[0mindex\u001b[0m\u001b[0;34m%=\u001b[0m\u001b[0mself\u001b[0m\u001b[0;34m.\u001b[0m\u001b[0m__len__\u001b[0m\u001b[0;34m(\u001b[0m\u001b[0;34m)\u001b[0m \u001b[0;31m#Take care of negative indices\u001b[0m\u001b[0;34m\u001b[0m\u001b[0;34m\u001b[0m\u001b[0m\n\u001b[0;32m--> 311\u001b[0;31m             \u001b[0;32mreturn\u001b[0m \u001b[0mself\u001b[0m\u001b[0;34m.\u001b[0m\u001b[0mmda_traj\u001b[0m\u001b[0;34m[\u001b[0m\u001b[0mself\u001b[0m\u001b[0;34m.\u001b[0m\u001b[0mt0\u001b[0m\u001b[0;34m+\u001b[0m\u001b[0mindex\u001b[0m\u001b[0;34m*\u001b[0m\u001b[0mself\u001b[0m\u001b[0;34m.\u001b[0m\u001b[0mstep\u001b[0m\u001b[0;34m]\u001b[0m\u001b[0;34m\u001b[0m\u001b[0;34m\u001b[0m\u001b[0m\n\u001b[0m\u001b[1;32m    312\u001b[0m \u001b[0;34m\u001b[0m\u001b[0m\n\u001b[1;32m    313\u001b[0m     \u001b[0;32mdef\u001b[0m \u001b[0m__len__\u001b[0m\u001b[0;34m(\u001b[0m\u001b[0mself\u001b[0m\u001b[0;34m)\u001b[0m\u001b[0;34m:\u001b[0m\u001b[0;34m\u001b[0m\u001b[0;34m\u001b[0m\u001b[0m\n",
      "\u001b[0;31mKeyboardInterrupt\u001b[0m: "
     ]
    }
   ],
   "source": [
    "fo.frames2data()  #Process frames, send to data\n",
    "proj['Frames'].detect.r_auto(7)  #Prepare detectors\n",
    "proj['Frames'].fit().opt2dist(rhoz_cleanup=True)  #Fit and optimize fit"
   ]
},
{
   "cell_type": "markdown",
   "id": "e3a19082",
   "metadata": {},
   "source": [
    "### Plot the results"
   ]
},
{
   "cell_type": "markdown",
   "id": "35706289",
   "metadata": {},
   "source": [
    "First, we validate the frame analysis quality by comparing the product of the individual correlation functions to the total correlation function"
   ]
},
{
   "cell_type": "code",
   "execution_count": null,
   "id": "8f589b3b",
   "metadata": {},
   "outputs": [],
   "source": [
    "proj.plot_obj.close('all')\n",
    "proj['opt_fit']['Frames']['Direct'].plot(style='bar')\n",
    "proj['opt_fit']['Frames']['Product'].plot().fig.set_size_inches([8,12])"
   ]
},
{
   "cell_type": "markdown",
   "id": "e7afed12",
   "metadata": {},
   "source": [
    "Plot the results for the Principal Axis System to the peptide plane (H–N librational motion)"
   ]
},
{
   "cell_type": "code",
   "execution_count": null,
   "id": "c60353b3",
   "metadata": {},
   "outputs": [],
   "source": [
    "proj.close_fig('all')\n",
    "proj['opt_fit']['PAS>peptide_plane'].plot(style='bar').fig.set_size_inches([8,12])\n",
    "for a in proj.plot_obj.ax[:-1]:a.set_ylim([0,.05])"
   ]
},
{
   "cell_type": "markdown",
   "id": "2c6260bc",
   "metadata": {},
   "source": [
    "Plot the results for peptide plane to $\\beta$-sheet superimposition (peptide plane dynamics)"
   ]
},
{
   "cell_type": "code",
   "execution_count": null,
   "id": "64fad12e",
   "metadata": {},
   "outputs": [],
   "source": [
    "proj.close_fig('all')\n",
    "proj['opt_fit']['peptide_plane>superimpose'].plot(style='bar').fig.set_size_inches([8,12])\n",
    "for a in proj.plot_obj.ax[:-1]:a.set_ylim([0,.2])"
   ]
},
{
   "cell_type": "markdown",
   "id": "3849053a",
   "metadata": {},
   "source": [
    "Plot the results for $\\beta$-sheet superimposition to lab frame ($\\beta$-sheet dynamics"
   ]
},
{
   "cell_type": "code",
   "execution_count": null,
   "id": "e1c82921",
   "metadata": {},
   "outputs": [],
   "source": [
    "proj.close_fig('all')\n",
    "proj['opt_fit']['superimpose>LF'].plot(style='bar').fig.set_size_inches([8,12])\n",
    "for a in proj.plot_obj.ax[:-1]:a.set_ylim([0,.05])"
   ]
}
],
 "metadata": {
  "kernelspec": {
   "display_name": "Python 3",
   "language": "python",
   "name": "python3"
  },
  "language_info": {
   "codemirror_mode": {
    "name": "ipython",
    "version": 3
   },
   "file_extension": ".py",
   "mimetype": "text/x-python",
   "name": "python",
   "nbconvert_exporter": "python",
   "pygments_lexer": "ipython3",
   "version": "3.7.3"
  }
 },
 "nbformat": 4,
 "nbformat_minor": 5
}
