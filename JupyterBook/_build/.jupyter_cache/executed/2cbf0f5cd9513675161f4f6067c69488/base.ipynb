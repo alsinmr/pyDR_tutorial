{
 "cells": [
  {
   "cell_type": "code",
   "execution_count": 1,
   "id": "759eab0f",
   "metadata": {},
   "outputs": [],
   "source": [
    "# SETUP pyDR\n",
    "import os\n",
    "os.chdir('../..')"
   ]
  },
  {
   "cell_type": "code",
   "execution_count": 2,
   "id": "9dde38fc",
   "metadata": {},
   "outputs": [],
   "source": [
    "#Imports\n",
    "import pyDR"
   ]
  },
  {
   "cell_type": "code",
   "execution_count": null,
   "id": "7b90ca6b",
   "metadata": {},
   "outputs": [],
   "source": []
  }
 ],
 "metadata": {
  "kernelspec": {
   "display_name": "Python 3",
   "language": "python",
   "name": "python3"
  },
  "language_info": {
   "codemirror_mode": {
    "name": "ipython",
    "version": 3
   },
   "file_extension": ".py",
   "mimetype": "text/x-python",
   "name": "python",
   "nbconvert_exporter": "python",
   "pygments_lexer": "ipython3",
   "version": "3.7.3"
  }
 },
 "nbformat": 4,
 "nbformat_minor": 5
}