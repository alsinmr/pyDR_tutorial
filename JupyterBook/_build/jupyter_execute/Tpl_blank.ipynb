{
 "cells": [
  {
   "cell_type": "markdown",
   "id": "abad766b",
   "metadata": {},
   "source": [
    "# <font color=\"maroon\">Template: pyDR Setup</font>"
   ]
  },
  {
   "cell_type": "markdown",
   "id": "759eab0e",
   "metadata": {},
   "source": [
    "<a href=\"https://githubtocolab.com/alsinmr/pyDR_tutorial/blob/main/ColabNotebooks/Tpl_blank.ipynb\" target=\"_blank\"><img src=\"https://colab.research.google.com/assets/colab-badge.svg\"></a>"
   ]
  },
  {
   "cell_type": "markdown",
   "id": "4911e6eb",
   "metadata": {},
   "source": [
    "This template only downloads and imports pyDR. Intended for use on Google Colab."
   ]
  },
  {
   "cell_type": "code",
   "execution_count": 0,
   "id": "759eab0f",
   "metadata": {},
   "outputs": [],
   "source": [
    "# SETUP pyDR\n",
    "import os\n",
    "os.chdir('../..')"
   ]
  },
  {
   "cell_type": "code",
   "execution_count": 3,
   "id": "9dde38fc",
   "metadata": {},
   "outputs": [],
   "source": [
    "#Imports\n",
    "import pyDR"
   ]
  },
  {
   "cell_type": "markdown",
   "id": "c373d324",
   "metadata": {},
   "source": [
    "## Your code below:"
   ]
  },
  {
   "cell_type": "code",
   "execution_count": null,
   "id": "7b90ca6b",
   "metadata": {},
   "outputs": [],
   "source": []
  }
 ],
 "metadata": {
  "kernelspec": {
   "display_name": "Python 3",
   "language": "python",
   "name": "python3"
  },
  "language_info": {
   "codemirror_mode": {
    "name": "ipython",
    "version": 3
   },
   "file_extension": ".py",
   "mimetype": "text/x-python",
   "name": "python",
   "nbconvert_exporter": "python",
   "pygments_lexer": "ipython3",
   "version": "3.7.3"
  }
 },
 "nbformat": 4,
 "nbformat_minor": 5
}