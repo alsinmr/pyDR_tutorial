{
 "cells": [
  {
   "cell_type": "code",
   "execution_count": 1,
   "id": "336bfa71",
   "metadata": {},
   "outputs": [
    {
     "data": {
      "application/vnd.jupyter.widget-view+json": {
       "model_id": "0dcf6fd31d0342d6a93e10f944a27d61",
       "version_major": 2,
       "version_minor": 0
      },
      "text/plain": []
     },
     "metadata": {},
     "output_type": "display_data"
    }
   ],
   "source": [
    "import nglview as nv\n",
    "from nglview.color import ColormakerRegistry as cm\n",
    "\n",
    "func_str = '''\n",
    "             this.atomColor = function (atom) {\n",
    "             if (atom.serial < 1000) {\n",
    "               return 0x0000FF // blue\n",
    "             } else if (atom.serial > 2000) {\n",
    "               return 0xFF0000 // red\n",
    "             } else {\n",
    "               return 0x00FF00 // green\n",
    "             }\n",
    "             }\n",
    "         '''\n",
    "cm.add_scheme_func('CustomColor',func_str)\n",
    "\n",
    "func_str = '''\n",
    "             this.atom.radius = function (atom) {\n",
    "             if (atom.serial < 1000) {\n",
    "               return .1 // blue\n",
    "             } else if (atom.serial > 2000) {\n",
    "               return .5 // red\n",
    "             } else {\n",
    "               return 1 // green\n",
    "             }\n",
    "             }\n",
    "         '''\n",
    "cm.add_scheme_func('CustomRadius',func_str)"
   ]
  },
  {
   "cell_type": "markdown",
   "id": "759eab0e",
   "metadata": {},
   "source": [
    "<a href=\"https://githubtocolab.com/alsinmr/pyDR_tutorial/blob/main/ColabNotebooks/Untitled.ipynb\" target=\"_blank\"><img src=\"https://colab.research.google.com/assets/colab-badge.svg\"></a>"
   ]
  },
  {
   "cell_type": "code",
   "execution_count": 2,
   "id": "95764634",
   "metadata": {},
   "outputs": [
    {
     "ename": "ModuleNotFoundError",
     "evalue": "No module named 'pyDR'",
     "output_type": "error",
     "traceback": [
      "\u001b[0;31m---------------------------------------------------------------------------\u001b[0m",
      "\u001b[0;31mModuleNotFoundError\u001b[0m                       Traceback (most recent call last)",
      "\u001b[0;32m<ipython-input-2-cc6b0f000243>\u001b[0m in \u001b[0;36m<module>\u001b[0;34m()\u001b[0m\n\u001b[1;32m      1\u001b[0m \u001b[0;32mimport\u001b[0m \u001b[0msys\u001b[0m\u001b[0;34m\u001b[0m\u001b[0;34m\u001b[0m\u001b[0m\n\u001b[1;32m      2\u001b[0m \u001b[0msys\u001b[0m\u001b[0;34m.\u001b[0m\u001b[0mpath\u001b[0m\u001b[0;34m.\u001b[0m\u001b[0mappend\u001b[0m\u001b[0;34m(\u001b[0m\u001b[0;34m'..'\u001b[0m\u001b[0;34m)\u001b[0m\u001b[0;34m\u001b[0m\u001b[0;34m\u001b[0m\u001b[0m\n\u001b[0;32m----> 3\u001b[0;31m \u001b[0;32mimport\u001b[0m \u001b[0mpyDR\u001b[0m\u001b[0;34m\u001b[0m\u001b[0;34m\u001b[0m\u001b[0m\n\u001b[0m\u001b[1;32m      4\u001b[0m \u001b[0mdata\u001b[0m\u001b[0;34m=\u001b[0m\u001b[0mpyDR\u001b[0m\u001b[0;34m.\u001b[0m\u001b[0mIO\u001b[0m\u001b[0;34m.\u001b[0m\u001b[0mreadNMR\u001b[0m\u001b[0;34m(\u001b[0m\u001b[0;34m'data/HETs_15N.txt'\u001b[0m\u001b[0;34m)\u001b[0m\u001b[0;34m\u001b[0m\u001b[0;34m\u001b[0m\u001b[0m\n",
      "\u001b[0;31mModuleNotFoundError\u001b[0m: No module named 'pyDR'"
     ]
    }
   ],
   "source": [
    "import sys\n",
    "sys.path.append('..')\n",
    "import pyDR\n",
    "data=pyDR.IO.readNMR('data/HETs_15N.txt')"
   ]
  },
  {
   "cell_type": "code",
   "execution_count": 3,
   "id": "88aefe27",
   "metadata": {},
   "outputs": [],
   "source": [
    "data.select=pyDR.MolSelect(topo='2kj3').select_bond('N',segids='B',resids=data.label)"
   ]
  },
  {
   "cell_type": "code",
   "execution_count": 4,
   "id": "0bc36342",
   "metadata": {},
   "outputs": [
    {
     "data": {
      "application/vnd.jupyter.widget-view+json": {
       "model_id": "60147247ad1f4368b939710dca910412",
       "version_major": 2,
       "version_minor": 0
      },
      "text/plain": [
       "NGLWidget(max_frame=19)"
      ]
     },
     "metadata": {},
     "output_type": "display_data"
    }
   ],
   "source": [
    "v1=nv.show_mdanalysis(data.select.uni,representations=[{\"type\":\"ball+stick\",\"params\":{\"color\":\"CustomColor\",\"radius\":1}}])\n",
    "v1"
   ]
  },
  {
   "cell_type": "code",
   "execution_count": 5,
   "id": "baf6e5c4",
   "metadata": {},
   "outputs": [
    {
     "ename": "NameError",
     "evalue": "name 'pos' is not defined",
     "output_type": "error",
     "traceback": [
      "\u001b[0;31m---------------------------------------------------------------------------\u001b[0m",
      "\u001b[0;31mNameError\u001b[0m                                 Traceback (most recent call last)",
      "\u001b[0;32m<ipython-input-5-ef147c0a82c7>\u001b[0m in \u001b[0;36m<module>\u001b[0;34m()\u001b[0m\n\u001b[0;32m----> 1\u001b[0;31m \u001b[0mv1\u001b[0m\u001b[0;34m.\u001b[0m\u001b[0mshape\u001b[0m\u001b[0;34m.\u001b[0m\u001b[0madd_sphere\u001b[0m\u001b[0;34m(\u001b[0m\u001b[0mpos\u001b[0m\u001b[0;34m,\u001b[0m\u001b[0mdata\u001b[0m\u001b[0;34m.\u001b[0m\u001b[0mselect\u001b[0m\u001b[0;34m.\u001b[0m\u001b[0muni\u001b[0m\u001b[0;34m.\u001b[0m\u001b[0matoms\u001b[0m\u001b[0;34m[\u001b[0m\u001b[0;36m0\u001b[0m\u001b[0;34m]\u001b[0m\u001b[0;34m.\u001b[0m\u001b[0mposition\u001b[0m\u001b[0;34m,\u001b[0m\u001b[0;36m5\u001b[0m\u001b[0;34m)\u001b[0m\u001b[0;34m\u001b[0m\u001b[0;34m\u001b[0m\u001b[0m\n\u001b[0m",
      "\u001b[0;31mNameError\u001b[0m: name 'pos' is not defined"
     ]
    }
   ],
   "source": [
    "v1.shape.add_sphere(pos,data.select.uni.atoms[0].position,5)"
   ]
  },
  {
   "cell_type": "code",
   "execution_count": null,
   "id": "d7e6caed",
   "metadata": {},
   "outputs": [],
   "source": [
    "v1"
   ]
  },
  {
   "cell_type": "code",
   "execution_count": null,
   "id": "1faf0e79",
   "metadata": {},
   "outputs": [],
   "source": [
    "# v1.picked['atom1']['vdw']=6\n",
    "v1.picked"
   ]
  },
  {
   "cell_type": "code",
   "execution_count": null,
   "id": "30166edb",
   "metadata": {},
   "outputs": [],
   "source": [
    "data.select.uni.select_atoms('resid 292 and segid B and name HE1').positions"
   ]
  },
  {
   "cell_type": "code",
   "execution_count": null,
   "id": "ae76acbe",
   "metadata": {},
   "outputs": [],
   "source": [
    "pos=[v1.picked['atom1'][key] for key in ['x','y','z']]\n",
    "print(pos)"
   ]
  },
  {
   "cell_type": "code",
   "execution_count": null,
   "id": "b0e5eb6b",
   "metadata": {},
   "outputs": [],
   "source": [
    "\n",
    "func_str = '''\n",
    "             this.atom.radius = function (atom) {\n",
    "             if (atom.serial < 1000) {\n",
    "               return .1 \n",
    "             } else if (atom.serial > 2000) {\n",
    "               return 1 \n",
    "             } else {\n",
    "               return 5 \n",
    "             }\n",
    "             }\n",
    "         '''\n",
    "cm.add_scheme_func('radius',func_str)"
   ]
  },
  {
   "cell_type": "code",
   "execution_count": null,
   "id": "a0f72915",
   "metadata": {},
   "outputs": [],
   "source": [
    "v1._representations"
   ]
  },
  {
   "cell_type": "code",
   "execution_count": null,
   "id": "14717978",
   "metadata": {},
   "outputs": [],
   "source": [
    "v1._js()"
   ]
  },
  {
   "cell_type": "code",
   "execution_count": null,
   "id": "45494320",
   "metadata": {},
   "outputs": [],
   "source": [
    "v1._js('print(atom)')"
   ]
  },
  {
   "cell_type": "code",
   "execution_count": null,
   "id": "a7c87f4e",
   "metadata": {},
   "outputs": [],
   "source": [
    "string=\"\"\"\n",
    "var schemeID = NGL.atom.radius.addScheme(function (params){\n",
    "    this.atom.radius = function (atom) {\n",
    "             if (atom.serial < 1000) {\n",
    "               return .1 \n",
    "             } else if (atom.serial > 2000) {\n",
    "               return 1 \n",
    "             } else {\n",
    "               return 5 \n",
    "             }\n",
    "             }\n",
    "})\n",
    "\n",
    "this._updateId(schemeId, 'radius')\n",
    "\"\"\""
   ]
  },
  {
   "cell_type": "code",
   "execution_count": null,
   "id": "2552fe22",
   "metadata": {},
   "outputs": [],
   "source": [
    "v1._js(string)"
   ]
  },
  {
   "cell_type": "code",
   "execution_count": null,
   "id": "cb90afb1",
   "metadata": {},
   "outputs": [],
   "source": [
    "cm._js(string)"
   ]
  },
  {
   "cell_type": "code",
   "execution_count": null,
   "id": "c7c11eef",
   "metadata": {},
   "outputs": [],
   "source": [
    "v1.get_state()['_ngl_msg_archive'].keys()"
   ]
  },
  {
   "cell_type": "code",
   "execution_count": null,
   "id": "629480ce",
   "metadata": {},
   "outputs": [],
   "source": [
    "v1."
   ]
  },
  {
   "cell_type": "code",
   "execution_count": null,
   "id": "ba43feff",
   "metadata": {},
   "outputs": [],
   "source": [
    "v1.parameters"
   ]
  },
  {
   "cell_type": "code",
   "execution_count": null,
   "id": "5dcb33b0",
   "metadata": {},
   "outputs": [],
   "source": [
    "v1.camera"
   ]
  },
  {
   "cell_type": "code",
   "execution_count": null,
   "id": "58bfe349",
   "metadata": {},
   "outputs": [],
   "source": [
    "v1._representations"
   ]
  },
  {
   "cell_type": "code",
   "execution_count": null,
   "id": "8681b992",
   "metadata": {},
   "outputs": [],
   "source": [
    "v1._"
   ]
  }
 ],
 "metadata": {
  "kernelspec": {
   "display_name": "Python 3",
   "language": "python",
   "name": "python3"
  },
  "language_info": {
   "codemirror_mode": {
    "name": "ipython",
    "version": 3
   },
   "file_extension": ".py",
   "mimetype": "text/x-python",
   "name": "python",
   "nbconvert_exporter": "python",
   "pygments_lexer": "ipython3",
   "version": "3.7.3"
  }
 },
 "nbformat": 4,
 "nbformat_minor": 5
}