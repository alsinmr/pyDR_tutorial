{
 "cells": [
  {
   "cell_type": "markdown",
   "id": "abad766b",
   "metadata": {},
   "source": [
    "# <font color=\"maroon\">Chapter 9: ROMANCE Analysis of Backbone Motion</font>"
   ]
  },
  {
   "cell_type": "markdown",
   "id": "759eab0e",
   "metadata": {},
   "source": [
    "<a href=\"https://githubtocolab.com/alsinmr/pyDR_tutorial/blob/main/ColabNotebooks/Ch9_ROMANCE_backbone.ipynb\" target=\"_blank\"><img src=\"https://colab.research.google.com/assets/colab-badge.svg\"></a>"
   ]
  },
  {
   "cell_type": "markdown",
   "id": "4911e6eb",
   "metadata": {},
   "source": [
    "Some text about [ROMANCE](https://doi.org/10.1016/j.jmro.2022.100045) analysis."
   ]
  },
  {
   "cell_type": "markdown",
   "id": "584a0d5f",
   "metadata": {},
   "source": [
    "## Setup and data downloads\n",
    "Since we've learned now how pyDR is organized and allows us to manage larger data sets, we'll now use the full project functionality."
   ]
  },
  {
   "cell_type": "code",
   "execution_count": 1,
   "id": "759eab0f",
   "metadata": {},
   "outputs": [],
   "source": [
    "# SETUP pyDR\n",
    "import os\n",
    "os.chdir('..')\n",
    "import sys\n",
    "sys.path.append('../') # Path to pyDR location"
   ]
  },
  {
   "cell_type": "code",
   "execution_count": 2,
   "id": "9dde38fc",
   "metadata": {},
   "outputs": [],
   "source": [
    "#Imports\n",
    "import pyDR"
   ]
  },
  {
   "cell_type": "code",
   "execution_count": null,
   "id": "2749d004",
   "metadata": {},
   "outputs": [],
   "source": []
  }
 ],
 "metadata": {
  "kernelspec": {
   "display_name": "Python 3",
   "language": "python",
   "name": "python3"
  },
  "language_info": {
   "codemirror_mode": {
    "name": "ipython",
    "version": 3
   },
   "file_extension": ".py",
   "mimetype": "text/x-python",
   "name": "python",
   "nbconvert_exporter": "python",
   "pygments_lexer": "ipython3",
   "version": "3.7.3"
  }
 },
 "nbformat": 4,
 "nbformat_minor": 5
}