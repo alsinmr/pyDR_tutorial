{
 "cells": [
  {
   "cell_type": "markdown",
   "id": "481ecb8f",
   "metadata": {},
   "source": [
    "# <font color=\"maroon\"> Chapter 1: A brief introduction to detectors </font>"
   ]
  },
  {
   "cell_type": "markdown",
   "id": "759eab0e",
   "metadata": {},
   "source": [
    "<a href=\"https://githubtocolab.com/alsinmr/pyDR_tutorial/blob/main/ColabNotebooks/Ch1_detectors_intro.ipynb\" target=\"_blank\"><img src=\"https://colab.research.google.com/assets/colab-badge.svg\"></a>"
   ]
  },
  {
   "cell_type": "markdown",
   "id": "c4cda781",
   "metadata": {},
   "source": [
    "## Models for decaying correlation functions\n",
    "Experimental and simulated dynamics information is often assumed to be described based on a time-correlation function, which relates the state of some parameter at an initial time to its value at a later time. The time-correlation is the *average* of that relationship. For example, for some parameter which varies with time, $A(\\tau)$, the simplest time-correlation function would be\n",
    "\n",
    "$$\n",
    "\\begin{equation}\n",
    "C(t)=\\langle X(\\tau)\\cdot X(t+\\tau)\\rangle_\\tau\n",
    "\\end{equation}\n",
    "$$\n",
    "\n",
    "where the brackets ($\\langle\\rangle_\\tau$) indication an average over the initial time $\\tau$.\n",
    "\n",
    "Then, the time-function often decays in time, indicating that the value of $X(t+\\tau)$ eventually becomes uncorrelated with its value at some earlier time, $X(\\tau)$. A simple model for this behavior is to assume the correlation function has the form\n",
    "\n",
    "$$\n",
    "\\begin{equation}\n",
    "C(t)=\\left(\\langle X(t)^2\\rangle_\\tau-\\langle X(t)\\rangle_\\tau^2\\right)e^{-t/\\tau_c}+\\langle X(t)\\rangle_\\tau^2.\n",
    "\\end{equation}\n",
    "$$\n",
    "\n",
    "In this simple case, the correlation time, $\\tau_c$, indicates how quickly the correlation decays. For motion, a shorter $\\tau_c$ indicates a faster motion, and a longer $\\tau_c$ indicates a slower motion. $\\langle X(\\tau)\\rangle_\\tau$ is simply the average of the parameter $X(\\tau)$, and ($\\langle X(t)^2\\rangle_\\tau-\\langle X(t)\\rangle_\\tau^2$) is its variance (standard deviation squared)\n",
    "\n",
    "It can be, however, that multiple motions affect the decorrelation, in which case the correlation function can be modeled more generally as\n",
    "\n",
    "$$\n",
    "\\begin{equation}\n",
    "C(t)=\\langle X(t)\\rangle_\\tau^2+\\sum\\limits_i{A_i\\exp(-t/\\tau_i)}\n",
    "\\end{equation}\n",
    "$$\n",
    "\n",
    "In this case, the $A_i$ add up to the total variance ($\\langle X(t)^2\\rangle_\\tau-\\langle X(t)\\rangle_\\tau^2$), but each corresponds to a different correlation time, representing contributions from different motions with varying speeds. This expression suggests a number of discrete motions, but it is also possible to obtain a continuum of correlation times, in which case we would better represent the situation with an infinite number of amplitudes, given as an integral:\n",
    "\n",
    "$$\n",
    "\\begin{equation}\n",
    "C(t)=\\langle X(t)\\rangle_\\tau^2+\\int\\limits_{-\\infty}^\\infty{\\theta(z)\\exp(-t/(10^z\\cdot1\\mathrm{ s})dz}\n",
    "\\end{equation}\n",
    "$$\n",
    "\n",
    "In this representation, $z$ is the log-correlation time ($z=\\log_{10}(\\tau_c/\\mathrm{s})$), and $\\theta(z)$ is the distribution of correlation times as a function of the log-correlation time. $\\theta(z)$ must then integrate to the total variance."
   ]
  },
  {
   "cell_type": "markdown",
   "id": "8bf3ae58",
   "metadata": {},
   "source": [
    "## The angular correlation function for NMR\n",
    "In NMR, a major source of relaxation is due to the stochastic reoriention of anisotropy interaction tensors, such as dipole couplings, chemical shift anisotropies (CSA), and quadrupole couplings. Then, we cannot use a strictly linear correlation function, but rather must use the rank-2 tensor correlation function (which can be constructed from a sum of linear correlation functions).\n",
    "\n",
    "$$\n",
    "\\begin{equation}\n",
    "C(t)=\\left\\langle\\frac{3\\cos^2\\beta_{\\tau,t+\\tau}-1}{2}\\right\\rangle_\\tau\n",
    "\\end{equation}\n",
    "$$\n",
    "\n",
    "Here, $\\beta_{\\tau,t+\\tau}$ is the angle between the z-component of the relevant tensor at some time $\\tau$ and a later time, $t+\\tau$. For example, for a one-bond dipole coupling, this is just the angle between the bond between the two times $\\tau$ and $t+\\tau$.\n",
    "\n",
    "Given the full correlation function, a given relaxation rate constant may be obtained by first calculating the spectral density function, $J(\\omega)$, which is the Fourier transform of the correlation function\n",
    "\n",
    "$$\n",
    "\\begin{equation}\n",
    "J(\\omega)=\\frac25\\int\\limits_0^\\infty{C(t)\\exp(-i\\omega t)dt}.\n",
    "\\end{equation}\n",
    "$$\n",
    "\n",
    "Then, for example, $T_1$ relaxation of a $^{13}$C nucleus due to a single bonded $^1$H and its CSA is given by\n",
    "\n",
    "$$\n",
    "\\begin{equation}\n",
    "R_1=\\left(\\frac{\\delta_\\mathrm{HC}}{4}\\right)^2(J(\\omega_\\mathrm{H}-\\omega_\\mathrm{C})+3J(\\omega_\\mathrm{C})+6J(\\omega_\\mathrm{H}+\\omega_\\mathrm{C}))+\\frac13(\\omega_\\mathrm{C}\\Delta\\sigma)^2J(\\omega_\\mathrm{C})\n",
    "\\end{equation}\n",
    "$$\n",
    "\n",
    "In this equation, $R_1$ is the longitudinal relaxation rate constant for $^{13}$C ($1/T_1=R_1$), with $\\delta_\\mathrm{HC}$ being the anisotropy of the dipole coupling and $\\Delta\\sigma_\\mathrm{C}$ the width of the CSA in ppm. The $J(\\omega)$ are sampled at the $^1$H and $^13$C Larmor frequencies in addition to their sums and differences (given in radians/s).\n",
    "\n",
    "Usually, relaxation due to reorientational motion can be expressed as a sum over the spectral density sampled at various frequencies:\n",
    "\n",
    "$$\n",
    "\\begin{equation}\n",
    "R_\\zeta=\\sum\\limits_i{a_iJ(\\omega_i)}\n",
    "\\end{equation}.\n",
    "$$\n",
    "\n",
    "The models of the correlation function given above are still valid, but we typically write them as:\n",
    "\n",
    "$$\n",
    "\\begin{eqnarray}\n",
    "C(t)&=&S^2+(1-S^2)\\sum\\limits_i{A_i\\exp(-t/\\tau_i}) \\\\\n",
    "&=&S^2+(1-S^2)\\int\\limits_{-\\infty}^\\infty{\\theta(z)\\exp(-t/(10^z\\cdot\\mathrm{ s}))dz}\n",
    "\\end{eqnarray}\n",
    "$$\n",
    "\n",
    "Here, $S^2$ is defined as:\n",
    "\n",
    "$$\n",
    "\\begin{equation}\n",
    "S^2=\\lim_{t\\rightarrow\\infty}C(t)\n",
    "\\end{equation}\n",
    "$$\n"
   ]
  },
  {
   "cell_type": "markdown",
   "id": "5cc149b2",
   "metadata": {},
   "source": [
    "## Fitting dynamics data\n",
    "Whether we have NMR data, or other dynamics data depending on some form of time-correlation function, we can, in principle, fit the experimental data based on some model of the correlation function. However, the challenge is, if we don't know the model, how valuable are these fits? We'll start by taking some example motion, characterized by 3 motions and calculate a few relaxation rate constants for those motions."
   ]
  },
  {
   "cell_type": "code",
   "execution_count": 1,
   "id": "759eab0f",
   "metadata": {},
   "outputs": [],
   "source": [
    "# SETUP pyDR\n",
    "import os\n",
    "os.chdir('..')\n",
    "import sys\n",
    "sys.path.append('../') # Path to pyDR location"
   ]
  },
  {
   "cell_type": "code",
   "execution_count": 2,
   "id": "08323201",
   "metadata": {},
   "outputs": [
    {
     "data": {
      "text/plain": [
       "<matplotlib.legend.Legend at 0x7fe2a00b4940>"
      ]
     },
     "execution_count": 2,
     "metadata": {},
     "output_type": "execute_result"
    }
   ],
   "source": [
    "# Import various modules, including the pyDR module\n",
    "import pyDR   #Import the pyDR software, which includes functions for calculating NMR relaxation rate constants\n",
    "from pyDR.misc.tools import linear_ex #Convenient tool for interpolating between data points\n",
    "import numpy as np #Lots of nice linear algebra tools\n",
    "from scipy.optimize import minimize\n",
    "import matplotlib.pyplot as plt #Plotting tools\n",
    "\n",
    "#Zoomable plots with matplotlib notebook\n",
    "# %matplotlib notebook\n",
    "\n",
    "z=[-11,-9.5,-7.5]  #These are log-correlation times, corresponding to 10 ps, 1 ns, and 1 μs, respectively\n",
    "A=[.2,.05,.01]  #These are the corresponding amplitudes. The total amplitude of motion is 0.38 (S^2=0.62)\n",
    "\n",
    "nmr=pyDR.Sens.NMR()  #This is a container for NMR experiments, which give the relaxation rates as a function of z\n",
    "nmr.new_exper(Type='R1',v0=[400,600,800],Nuc='15N') #Add 3 experiments: 15N T1 at 400, 600, and 800\n",
    "#We assume by default N15 coupled to a single proton (22.954 kHz = 2*11.477) and CSA of 113 ppm (z-component)\n",
    "nmr.new_exper(Type='R1p',v0=800,vr=60,v1=10,Nuc='15N') #Add an R1p (MAS=60 kHz, spin-lock at 10 kHz)\n",
    "nmr.new_exper(Type='S2')\n",
    "labels=[r'$R_1$(400 MHz)',r'$R_1$(600 MHz)',r'$R_1$(800 MHz)',\n",
    "        r'$R_{1\\rho}$',r'$1-S^2$']\n",
    "\n",
    "ax=nmr.plot_Rz(norm=True)[0].axes #Plot the 9 relaxation rate constants (normalized to max of 1) vs tc\n",
    "ax.legend(labels)"
   ]
  },
  {
   "cell_type": "markdown",
   "id": "8c22aeaf",
   "metadata": {},
   "source": [
    "Now we can construct the relaxation rate constants for the seven experiments above, by simply summing over the three correlation times and amplitudes"
   ]
  },
  {
   "cell_type": "code",
   "execution_count": 3,
   "id": "c2e45a95",
   "metadata": {},
   "outputs": [
    {
     "data": {
      "image/png": "[encoded data removed]",
      "text/plain": [
       "<Figure size 432x288 with 1 Axes>"
      ]
     },
     "metadata": {
      "filenames": {
       "image/png": "/Users/albertsmith/Documents/GitHub/pyDR_tutorial/JupyterBook/_build/jupyter_execute/Ch1_detectors_intro_8_0.png"
      },
      "needs_background": "light"
     },
     "output_type": "display_data"
    }
   ],
   "source": [
    "R=np.zeros(nmr.rhoz.shape[0])  #Pre-allocate an array with 7 relaxation rates\n",
    "for z0,A0 in zip(z,A):    #Iterate over all correlation times, amplitudes\n",
    "    R+=A0*linear_ex(nmr.z,nmr.rhoz,z0)\n",
    "\n",
    "ax=plt.subplots()[1]\n",
    "ax.bar(range(len(R)),R)\n",
    "#Some figure cleanup/labeling\n",
    "ax.set_xticks(range(len(R)))\n",
    "ax.set_xticklabels(labels,rotation=90)\n",
    "ax.set_ylabel(r'$R$ / s$^{-1}$')\n",
    "ax.figure.tight_layout()"
   ]
  },
  {
   "cell_type": "markdown",
   "id": "f277cddc",
   "metadata": {},
   "source": [
    "Now, the question is, can we fit this data based on a model of the correlation function, and does that model have to match the original model. For demonstration purposes, we try a model that only has two correlation times."
   ]
  },
  {
   "cell_type": "code",
   "execution_count": 4,
   "id": "fa411c3f",
   "metadata": {},
   "outputs": [],
   "source": [
    "#Function to calculate relaxation rate constants\n",
    "def calcR(z,A,nmr):\n",
    "    R=np.zeros(nmr.rhoz.shape[0])\n",
    "    for z0,A0 in zip(z,A):    #Iterate over all correlation times, amplitudes\n",
    "        R+=A0*linear_ex(nmr.z,nmr.rhoz,z0)\n",
    "    return R\n",
    "\n",
    "#Function to calculate error of fit\n",
    "def error(zf,Af):\n",
    "    Ri=calcR(z,A,nmr)\n",
    "    Rc=calcR(zf,Af,nmr)\n",
    "    return np.sum((Ri-Rc)**2)\n",
    "\n",
    "# Function to use with nonlinear minimization algorithm (needs to have just one argument)\n",
    "def fun(x):\n",
    "    zf=x[:len(x)//2]\n",
    "    Af=x[len(x)//2:]\n",
    "    return error(zf,Af)"
   ]
  },
  {
   "cell_type": "markdown",
   "id": "7aa11f1c",
   "metadata": {},
   "source": [
    "First, we just try to fit with the original model, i.e. with a tri-exponential decay\n",
    "\n",
    "$$\n",
    "\\begin{equation}\n",
    "C(t)=1-(A_0+A_1+A_2)+A_0\\exp(-t/\\tau_0)+A_1\\exp(-t/\\tau_1)+A_2\\exp(-t/\\tau_2)\n",
    "\\end{equation}\n",
    "$$\n"
   ]
  },
  {
   "cell_type": "code",
   "execution_count": 5,
   "id": "f91c4dc9",
   "metadata": {},
   "outputs": [
    {
     "name": "stdout",
     "output_type": "stream",
     "text": [
      "Error is 6.5735314936268175e-06 (should be small– otherwise adjust initial guess)\n"
     ]
    }
   ],
   "source": [
    "fit=minimize(fun,[-10,-9,-7,.2,.1,.05],bounds=([-14,-6],[-14,-6],[-14,-6],[0,1],[0,1],[0,1]))   \n",
    "zf,Af=fit['x'][:3],fit['x'][3:]\n",
    "Rc=calcR(zf,Af,nmr)\n",
    "\n",
    "print(f'Error is {fit[\"fun\"]} (should be small– otherwise adjust initial guess)')"
   ]
  },
  {
   "cell_type": "code",
   "execution_count": 6,
   "id": "fbd7f250",
   "metadata": {},
   "outputs": [
    {
     "data": {
      "image/png": "[encoded data removed]",
      "text/plain": [
       "<Figure size 432x288 with 1 Axes>"
      ]
     },
     "metadata": {
      "filenames": {
       "image/png": "/Users/albertsmith/Documents/GitHub/pyDR_tutorial/JupyterBook/_build/jupyter_execute/Ch1_detectors_intro_13_0.png"
      },
      "needs_background": "light"
     },
     "output_type": "display_data"
    },
    {
     "data": {
      "image/png": "[encoded data removed]",
      "text/plain": [
       "<Figure size 432x288 with 1 Axes>"
      ]
     },
     "metadata": {
      "filenames": {
       "image/png": "/Users/albertsmith/Documents/GitHub/pyDR_tutorial/JupyterBook/_build/jupyter_execute/Ch1_detectors_intro_13_1.png"
      },
      "needs_background": "light"
     },
     "output_type": "display_data"
    }
   ],
   "source": [
    "#Plot the results\n",
    "ax=plt.subplots()[1]\n",
    "for z0,A0 in zip(z,A):\n",
    "    hdl0=ax.plot([z0,z0],[0,A0],color='red',label='Input' if z0==z[-1] else None)\n",
    "for z0,A0 in zip(zf,Af):\n",
    "    hdl1=ax.plot([z0,z0],[0,A0],color='blue',label='Fit' if z0==zf[-1] else None)\n",
    "ax.set_ylim([0,ax.get_ylim()[1]])\n",
    "ax.set_xlabel(r'$z=\\log_{10}(\\tau_i/\\mathrm{s})$')\n",
    "ax.set_ylabel(r'$A_i$')\n",
    "ax.legend()\n",
    "ax.set_title('Input vs. fitted correlation times and amplitudes')\n",
    "ax.figure.tight_layout()\n",
    "\n",
    "ax=plt.subplots()[1]\n",
    "ax.bar(range(len(R)),R,label='Input')\n",
    "ax.scatter(range(len(Rc)),Rc,color='black',marker='o',label='Fit')\n",
    "ax.legend()\n",
    "ax.set_xticks(range(len(Rc)))\n",
    "ax.set_xticklabels(labels,rotation=45)\n",
    "ax.set_title('Input vs. fitted rate constants')\n",
    "ax.figure.tight_layout()"
   ]
  },
  {
   "cell_type": "markdown",
   "id": "4b06a78d",
   "metadata": {},
   "source": [
    "The data is well-fit, but the parameters themselves are not well determined, so we try again with a reduced number of variables, to see what happens."
   ]
  },
  {
   "cell_type": "code",
   "execution_count": 7,
   "id": "fbdb1b38",
   "metadata": {},
   "outputs": [
    {
     "name": "stdout",
     "output_type": "stream",
     "text": [
      "Error is 4.299449423051208e-07 (should be small– otherwise adjust initial guess)\n"
     ]
    }
   ],
   "source": [
    "fit=minimize(fun,[-10,-8.5,.2,.01],bounds=([-14,-6],[-14,-6],[0,1],[0,1]))   \n",
    "zf,Af=fit['x'][:2],fit['x'][2:]\n",
    "Rc=calcR(zf,Af,nmr)\n",
    "\n",
    "print(f'Error is {fit[\"fun\"]} (should be small– otherwise adjust initial guess)')"
   ]
  },
  {
   "cell_type": "code",
   "execution_count": 8,
   "id": "f55d7bf6",
   "metadata": {},
   "outputs": [
    {
     "data": {
      "image/png": "[encoded data removed]",
      "text/plain": [
       "<Figure size 432x288 with 1 Axes>"
      ]
     },
     "metadata": {
      "filenames": {
       "image/png": "/Users/albertsmith/Documents/GitHub/pyDR_tutorial/JupyterBook/_build/jupyter_execute/Ch1_detectors_intro_16_0.png"
      },
      "needs_background": "light"
     },
     "output_type": "display_data"
    },
    {
     "data": {
      "image/png": "[encoded data removed]",
      "text/plain": [
       "<Figure size 432x288 with 1 Axes>"
      ]
     },
     "metadata": {
      "filenames": {
       "image/png": "/Users/albertsmith/Documents/GitHub/pyDR_tutorial/JupyterBook/_build/jupyter_execute/Ch1_detectors_intro_16_1.png"
      },
      "needs_background": "light"
     },
     "output_type": "display_data"
    }
   ],
   "source": [
    "#Plot the results\n",
    "ax=plt.subplots()[1]\n",
    "for z0,A0 in zip(z,A):\n",
    "    hdl0=ax.plot([z0,z0],[0,A0],color='red',label='Input' if z0==z[-1] else None)\n",
    "for z0,A0 in zip(zf,Af):\n",
    "    hdl1=ax.plot([z0,z0],[0,A0],color='blue',label='Fit' if z0==zf[-1] else None)\n",
    "ax.set_ylim([0,ax.get_ylim()[1]])\n",
    "ax.set_xlabel(r'$z=\\log_{10}(\\tau_i/\\mathrm{s})$')\n",
    "ax.set_ylabel(r'$A_i$')\n",
    "ax.legend()\n",
    "ax.set_title('Input vs. fitted correlation times and amplitudes')\n",
    "ax.figure.tight_layout()\n",
    "\n",
    "ax=plt.subplots()[1]\n",
    "ax.bar(range(len(R)),R,label='Input')\n",
    "ax.scatter(range(len(Rc)),Rc,color='black',marker='o',label='Fit')\n",
    "ax.legend()\n",
    "ax.set_xticks(range(len(Rc)))\n",
    "ax.set_xticklabels(labels,rotation=45)\n",
    "ax.set_title('Input vs. fitted rate constants')\n",
    "ax.figure.tight_layout()"
   ]
  },
  {
   "cell_type": "markdown",
   "id": "032cde85",
   "metadata": {},
   "source": [
    "The two fits are nearly equal in quality, whereas only the second yields stable parameters, due to the fewer number of free variables. However, neither fit really reproduces the input correlation times and amplitudes. There isn't enough information to extract 6 parameters, and so we get parameters that represent some kind of compromise to match the real motion. This is discussed in detail in:\n",
    "\n",
    "A. A. Smith, M. Ernst, B. H. Meier. [Because the light is better here: correlation-time analysis by NMR.](https://doi.org/10.1002/ange.201707316) Angew. Chem. Int. Ed. 2017, 56, 13778-13783. \n",
    "\n",
    "If it was just a matter of fitting three correlation times instead of two, we might be able to solve this problem by simply obtaining additional experimental data. However, the real problem is that we often have continua of correlation times (hence why we suggest using a distribution of correlation times above, $(1-S^2)\\theta(z)$. Without a model of the correlation function that both accurately describes the motion and has sufficiently few parameters, we fail to be able to get really meaningful dynamics parameters. Furthermore, for proteins, which have a complex structure, it is highly non-trivial to get a good model.\n",
    "\n",
    "To address this problem, we have developed the **detector** analysis, which we introduce here."
   ]
  },
  {
   "cell_type": "markdown",
   "id": "e7cb855d",
   "metadata": {},
   "source": [
    "## Basic detector theory\n",
    "Suppose that our correlation function is given by an arbitrarily complex sum of decaying exponential terms. We'll take this to be the rank-2 tensor correlation function used in NMR (here, that just means we assume an initial value of one, and value at $t=\\infty$ of $S^2$). Then, this can be written as a distribution of correlation times\n",
    "\n",
    "$$\n",
    "\\begin{equation}\n",
    "C(t)=S^2+(1-S^2)\\int\\limits_{-\\infty}^\\infty{\\theta(z)\\exp(-t/(10^z\\cdot\\mathrm{1 s}))dz}\n",
    "\\end{equation}\n",
    "$$\n",
    "\n",
    "The distribution, $(1-S^2)\\theta(z)$, can be assumed to be a sum of $\\delta$-functions, allowing it to also be re-written as a sum of correlation times:\n",
    "\n",
    "$$\n",
    "\\begin{equation}\n",
    "C(t)=S^2+(1-S^2)\\sum\\limits_i{A_i\\exp(-t/\\tau_i)}\n",
    "\\end{equation}\n",
    "$$\n",
    "\n",
    "Then, a given relaxation rate constant is given by\n",
    "\n",
    "$$\n",
    "\\begin{equation}\n",
    "R_\\zeta^{(\\theta,S)}=\\sum\\limits_i{a_\\zeta^iJ^{(\\theta,S)}(\\omega_i)}\n",
    "\\end{equation}\n",
    "$$\n",
    "\n",
    "The spectral density, $J^{(\\theta,S)}(\\omega)$ is, indeed, a function of the distribution of correlation times, given by\n",
    "\n",
    "$$\n",
    "\\begin{equation}\n",
    "J^{(\\theta,S)}(\\omega)=2(1-S^2)\\int\\limits_{-\\infty}^\\infty{\\theta(z)\\frac{10^z\\cdot\\mathrm{1 s}}{1+(\\omega\\cdot10^z\\cdot\\mathrm{1 s})^2}dz}\n",
    "\\end{equation}\n",
    "$$\n",
    "\n",
    "Then, a given relaxation rate constant can be written as a function of the distribution of correlation times:\n",
    "\n",
    "$$\n",
    "\\begin{eqnarray}\n",
    "R_\\zeta^{(\\theta,S)}&=&\\sum\\limits_i{a_\\zeta^iJ^{(\\theta,S)}(\\omega_i)} \\\\\n",
    "&=&\\sum\\limits_i{a_\\zeta^i2(1-S^2)\\int\\limits_{-\\infty}^\\infty{\\theta(z)\\frac{10^z\\cdot\\mathrm{1 s}}{1+(\\omega_i\\cdot10^z\\cdot\\mathrm{1 s})^2}}dz}\\\\\n",
    "&=&(1-S^2)\\int\\limits_{-\\infty}^\\infty{2\\sum\\limits_i{a_\\zeta^i\\frac{10^z\\cdot\\mathrm{1 s}}{1+(\\omega_i\\cdot10^z\\cdot\\mathrm{1 s})^2}}dz}\\\\\n",
    "&=&(1-S^2)\\int\\limits_{-\\infty}^\\infty{\\theta(z)R_\\zeta(z)dz}\n",
    "\\end{eqnarray}\n",
    "$$\n",
    "\n",
    "where\n",
    "\n",
    "$$\n",
    "\\begin{equation}\n",
    "R_\\zeta(z)=2\\sum\\limits_i{a_\\zeta^i\\frac{10^z\\cdot\\mathrm{1 s}}{1+(\\omega_i\\cdot10^z\\cdot\\mathrm{1 s})^2}}\n",
    "\\end{equation}\n",
    "$$\n",
    "\n",
    "While the math may seem a bit overwhelming at first, all we've really done is a little shuffling of terms. We point out that a given relaxation rate constant is sensitive to certain correlation times more than others, and its measurement basically provides us a 'window', given by $R_\\zeta(z)$, into the total dynamics. We have termed this window a *detector sensitivity*, which looks at only a certain range of correlation times, as defined by the integral above. pyDR automatically calculates these windows, as shown below, for a $^{15}$N $T_1$ (protein backbone) acquired at 600 MHz."
   ]
  },
  {
   "cell_type": "code",
   "execution_count": 9,
   "id": "cad0e2c9",
   "metadata": {},
   "outputs": [
    {
     "data": {
      "image/png": "[encoded data removed]",
      "text/plain": [
       "<Figure size 432x288 with 1 Axes>"
      ]
     },
     "metadata": {
      "filenames": {
       "image/png": "/Users/albertsmith/Documents/GitHub/pyDR_tutorial/JupyterBook/_build/jupyter_execute/Ch1_detectors_intro_19_0.png"
      },
      "needs_background": "light"
     },
     "output_type": "display_data"
    }
   ],
   "source": [
    "_=pyDR.Sens.NMR(Type='R1',Nuc='15N',v0=600).plot_Rz()"
   ]
  },
  {
   "cell_type": "markdown",
   "id": "48b0e0bb",
   "metadata": {},
   "source": [
    "As one sees, measurement of this $T_1$ lets us characterize dynamics *around* roughly 1 ns. \n",
    "\n",
    "Interestingly, if we have multiple relaxation rate constants, we may add them together to get new windows. For example, we define:\n",
    "\n",
    "$$\n",
    "\\begin{eqnarray}\n",
    "\\rho_n^{(\\theta,S)}&=&\\sum\\limits_\\zeta{b_\\zeta^n R_\\zeta^{(\\theta,S)}} \\\\\n",
    "&=&\\sum\\limits_\\zeta{b_\\zeta^n(1-S^2)\\int\\limits_{-\\infty}^\\infty{\\theta(z)R_\\zeta(z)dz}} \\\\\n",
    "&=&(1-S^2)\\int\\limits_{-\\infty}^\\infty{\\theta(z)\\sum\\limits_\\zeta{b_\\zeta^n R_\\zeta(z)}dz}\\\\\n",
    "&=&(1-S^2)\\int\\limits_{-\\infty}^\\infty{\\theta(z)\\rho_n(z)dz}\n",
    "\\end{eqnarray}\n",
    "$$\n",
    "\n",
    "with\n",
    "\n",
    "$$\n",
    "\\begin{equation}\n",
    "\\rho_n(z)=\\sum\\limits_\\zeta{b_\\zeta^n R_\\zeta(z)}\n",
    "\\end{equation}\n",
    "$$\n",
    "\n",
    "The superscript $n$ just indicates that there are multiple possible linear combinations of relaxation rate constants. Each linear combination creates a new window, but most possible windows may not be particularly useful. For example, we take two relaxation rate constants below, and show a random set of linear combinations:"
   ]
  },
  {
   "cell_type": "code",
   "execution_count": 10,
   "id": "3b794b5f",
   "metadata": {},
   "outputs": [
    {
     "data": {
      "image/png": "[encoded data removed]",
      "text/plain": [
       "<Figure size 432x288 with 1 Axes>"
      ]
     },
     "metadata": {
      "filenames": {
       "image/png": "/Users/albertsmith/Documents/GitHub/pyDR_tutorial/JupyterBook/_build/jupyter_execute/Ch1_detectors_intro_21_0.png"
      },
      "needs_background": "light"
     },
     "output_type": "display_data"
    }
   ],
   "source": [
    "nmr=pyDR.Sens.NMR(Type='R1',v0=[40,800],Nuc='15N')\n",
    "rho_0=nmr.rhoz[0]*10*(np.random.rand()-.5)+nmr.rhoz[1]*10*(np.random.rand()-.5)\n",
    "rho_1=nmr.rhoz[0]*10*(np.random.rand()-.5)+nmr.rhoz[1]*10*(np.random.rand()-.5)\n",
    "ax=plt.subplots()[1]\n",
    "ax.semilogx(nmr.tc,rho_0)\n",
    "ax.semilogx(nmr.tc,rho_1)\n",
    "ax.set_xlabel(r'$\\tau_c$ / s')\n",
    "_=ax.set_ylabel(r'\\rho_n(z)')"
   ]
  },
  {
   "cell_type": "markdown",
   "id": "bc0ae37f",
   "metadata": {},
   "source": [
    "However, pyDR is designed to yield the optimal $n$ windows for a given data set, for example, for the two experiments, we get two optimized windows (The number of optimized windows is always less than or equal to the number of experiments)"
   ]
  },
  {
   "cell_type": "code",
   "execution_count": 11,
   "id": "e82b828d",
   "metadata": {},
   "outputs": [
    {
     "data": {
      "image/png": "[encoded data removed]",
      "text/plain": [
       "<Figure size 432x288 with 1 Axes>"
      ]
     },
     "metadata": {
      "filenames": {
       "image/png": "/Users/albertsmith/Documents/GitHub/pyDR_tutorial/JupyterBook/_build/jupyter_execute/Ch1_detectors_intro_23_0.png"
      },
      "needs_background": "light"
     },
     "output_type": "display_data"
    }
   ],
   "source": [
    "_=nmr.Detector().r_auto(2).plot_rhoz()"
   ]
  },
  {
   "cell_type": "markdown",
   "id": "e7119db9",
   "metadata": {},
   "source": [
    "Formally, the linear combination of rate constants (or any other parameter depending linearly on the correlation function) is referred to as a *detector response* ($\\rho_n^{(\\theta,S)}$), and the linear combination of sensitivities of the rate constants as *detector sensitivities* ($\\rho_n(z)$). In the next chapter, we discuss how the windows are actually optimized."
   ]
  },
  {
   "cell_type": "code",
   "execution_count": null,
   "id": "d60d41fa",
   "metadata": {},
   "outputs": [],
   "source": []
  }
 ],
 "metadata": {
  "kernelspec": {
   "display_name": "Python 3",
   "language": "python",
   "name": "python3"
  },
  "language_info": {
   "codemirror_mode": {
    "name": "ipython",
    "version": 3
   },
   "file_extension": ".py",
   "mimetype": "text/x-python",
   "name": "python",
   "nbconvert_exporter": "python",
   "pygments_lexer": "ipython3",
   "version": "3.7.3"
  }
 },
 "nbformat": 4,
 "nbformat_minor": 5
}