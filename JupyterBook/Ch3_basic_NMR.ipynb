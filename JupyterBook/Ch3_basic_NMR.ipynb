{
 "cells": [
  {
   "cell_type": "markdown",
   "id": "abad766b",
   "metadata": {},
   "source": [
    "# <font color=\"maroon\">Chapter 3: A Basic NMR Analysis</font>"
   ]
  },
  {
   "cell_type": "markdown",
   "id": "49e07ad5",
   "metadata": {},
   "source": [
    "<a href=\"https://githubtocolab.com/alsinmr/pyDR_tutorial/blob/main/JupyterBook/Ch3_basic_NMR.ipynb\" target=\"_blank\"><img src=\"https://colab.research.google.com/assets/colab-badge.svg\"></a>"
   ]
  },
  {
   "cell_type": "code",
   "execution_count": 7,
   "id": "54fa7134",
   "metadata": {},
   "outputs": [],
   "source": [
    "import sys\n",
    "if 'google.colab' in sys.modules:\n",
    "    !git clone https://github.com/alsinmr/pyDR_tutorial.git\n",
    "    "
   ]
  },
  {
   "cell_type": "code",
   "execution_count": 6,
   "id": "9dde38fc",
   "metadata": {},
   "outputs": [],
   "source": [
    "sys.path.append('../..')\n",
    "sys.path.\n",
    "import pyDR\n",
    "import matplotlib.pyplot as plt\n",
    "import numpy as np\n",
    "\n",
    "nmr=pyDR.Sens.NMR()  #NMR is a sensitivity object, containing sensitivity windows for NMR experiments\n",
    "nmr.new_exper(Type='R1',v0=[400,600,800],Nuc='15N') #Add R1 experiments at 3 magnetic fields\n",
    "nmr.new_exper(Type='R1p',v0=600,vr=60,v1=[10,22,35,45,50],Nuc='15N') #Add R1p experiments at 5 field strengths\n",
    "\n",
    "_=nmr.plot_Rz(norm=True)"
   ]
  },
  {
   "cell_type": "code",
   "execution_count": 5,
   "id": "f856e620",
   "metadata": {},
   "outputs": [
    {
     "name": "stdout",
     "output_type": "stream",
     "text": [
      "/Users/albertsmith/Documents/GitHub/pyDR_tutorial/JupyterBook\r\n"
     ]
    }
   ],
   "source": [
    "colab_setup"
   ]
  },
  {
   "cell_type": "code",
   "execution_count": null,
   "id": "c39bc21b",
   "metadata": {},
   "outputs": [],
   "source": []
  }
 ],
 "metadata": {
  "kernelspec": {
   "display_name": "Python 3",
   "language": "python",
   "name": "python3"
  },
  "language_info": {
   "codemirror_mode": {
    "name": "ipython",
    "version": 3
   },
   "file_extension": ".py",
   "mimetype": "text/x-python",
   "name": "python",
   "nbconvert_exporter": "python",
   "pygments_lexer": "ipython3",
   "version": "3.7.3"
  }
 },
 "nbformat": 4,
 "nbformat_minor": 5
}
